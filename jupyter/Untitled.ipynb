{
 "cells": [
  {
   "cell_type": "code",
   "execution_count": 7,
   "metadata": {},
   "outputs": [],
   "source": [
    "require 'torch'\n",
    "require 'nn'\n",
    "require 'gnuplot'"
   ]
  },
  {
   "cell_type": "code",
   "execution_count": 21,
   "metadata": {},
   "outputs": [],
   "source": [
    "x = torch.linspace(-3,3)\n",
    "net = nn.Tanh()\n",
    "fx = net:forward(x)\n",
    "go = torch.ones(100)\n",
    "dx = net:backward(x,fx)\n",
    "gnuplot.plot({'f(x)', x, fx},{'df/dx', x, dx})"
   ]
  },
  {
   "cell_type": "code",
   "execution_count": 9,
   "metadata": {},
   "outputs": [
    {
     "data": {
      "text/plain": [
       " 2.0080e-316  6.9165e-310   0.0000e+00\n",
       "  0.0000e+00   0.0000e+00  4.8234e+228\n",
       "  7.8838e-67   3.1707e+20   3.4910e-76\n",
       "  3.6651e-76  1.7054e+256  5.4911e-143\n",
       " 2.1403e+161  3.9845e+252   5.0512e-38\n",
       "[torch.DoubleTensor of size 5x3]\n",
       "\n"
      ]
     },
     "execution_count": 9,
     "metadata": {},
     "output_type": "execute_result"
    }
   ],
   "source": [
    "a = torch.Tensor(5,3)\n",
    "print(a)"
   ]
  },
  {
   "cell_type": "code",
   "execution_count": null,
   "metadata": {},
   "outputs": [],
   "source": [
    "mod = "
   ]
  },
  {
   "cell_type": "code",
   "execution_count": 31,
   "metadata": {},
   "outputs": [
    {
     "data": {
      "text/plain": [
       " 0.0215  0.5838\n",
       " 0.6127 -0.1009\n",
       "-0.4933 -0.3070\n",
       "[torch.DoubleTensor of size 3x2]\n",
       "\n",
       " 0.6802\n",
       " 0.2792\n",
       "-0.5008\n",
       "[torch.DoubleTensor of size 3]\n",
       "\n",
       " 6.9325e-310  6.9325e-310\n",
       " 3.4394e+169   5.0280e-91\n",
       " 1.2786e+165   8.2611e-72\n",
       "[torch.DoubleTensor of size 3x2]\n",
       "\n",
       " 6.9325e-310\n",
       " 6.9325e-310\n",
       " 8.5452e+194\n",
       "[torch.DoubleTensor of size 3]\n",
       "\n"
      ]
     },
     "execution_count": 31,
     "metadata": {},
     "output_type": "execute_result"
    },
    {
     "data": {
      "text/plain": [
       " 0\n",
       " 0\n",
       "[torch.DoubleTensor of size 2]\n",
       "\n",
       " 0.6802\n",
       " 0.2792\n",
       "-0.5008\n",
       "[torch.DoubleTensor of size 3]\n",
       "\n"
      ]
     },
     "execution_count": 31,
     "metadata": {},
     "output_type": "execute_result"
    }
   ],
   "source": [
    "mod = nn.Linear(2,3)\n",
    "net = nn.Sequential()\n",
    "net:add(mod)\n",
    "print(mod.weight)\n",
    "print(mod.bias)\n",
    "print(mod.gradWeight)\n",
    "print(mod.gradBias)\n",
    "x = torch.Tensor(2)\n",
    "y = net:forward(x)\n",
    "print(x)\n",
    "print(y)"
   ]
  },
  {
   "cell_type": "code",
   "execution_count": 43,
   "metadata": {},
   "outputs": [
    {
     "data": {
      "text/plain": [
       " 1  2  3  4\n",
       " 5  5  5  6\n",
       "[torch.DoubleTensor of size 2x4]\n",
       "\n",
       "  2   0   6   8\n",
       "  0  10  10  12\n",
       "[torch.DoubleTensor of size 2x4]\n",
       "\n"
      ]
     },
     "execution_count": 43,
     "metadata": {},
     "output_type": "execute_result"
    }
   ],
   "source": [
    "mod = nn.Dropout()\n",
    "x = torch.Tensor{{1,2,3,4},{5,5,5,6}}\n",
    "print(x)\n",
    "y = mod:forward(x)\n",
    "print(y)"
   ]
  },
  {
   "cell_type": "code",
   "execution_count": 68,
   "metadata": {},
   "outputs": [
    {
     "data": {
      "text/plain": [
       " 3\n",
       " 2\n",
       " 4\n",
       "[torch.LongStorage of size 3]\n",
       "\n"
      ]
     },
     "execution_count": 68,
     "metadata": {},
     "output_type": "execute_result"
    }
   ],
   "source": [
    "x = torch.Tensor(2,3,4)\n",
    "--mod = nn.View(-1):setNumInputDims(0)\n",
    "mod = nn.View(3,2,4)\n",
    "y = mod:forward(x)\n",
    "print(#y)"
   ]
  },
  {
   "cell_type": "code",
   "execution_count": 74,
   "metadata": {},
   "outputs": [
    {
     "ename": "/home/geek/torch-cl/install/share/lua/5.1/nn/Normalize.lua:6: internal error in __lt: no metatable\nstack traceback:\n\t[C]: in function '__lt'\n\t/home/geek/torch-cl/install/share/lua/5.1/nn/Normalize.lua:6: in function '__init'\n\t/home/geek/torch-cl/install/share/lua/5.1/torch/init.lua:91: in function </home/geek/torch-cl/install/share/lua/5.1/torch/init.lua:87>\n\t[C]: in function 'Normalize'\n\t[string \"x = torch.Tensor{1,2,3,4}...\"]:3: in main chunk\n\t[C]: in function 'xpcall'\n\t/home/geek/torch/install/share/lua/5.1/itorch/main.lua:210: in function </home/geek/torch/install/share/lua/5.1/itorch/main.lua:174>\n\t/home/geek/torch/install/share/lua/5.1/lzmq/poller.lua:80: in function 'poll'\n\t/home/geek/torch/install/share/lua/5.1/lzmq/impl/loop.lua:307: in function 'poll'\n\t/home/geek/torch/install/share/lua/5.1/lzmq/impl/loop.lua:325: in function 'sleep_ex'\n\t/home/geek/torch/install/share/lua/5.1/lzmq/impl/loop.lua:370: in function 'start'\n\t/home/geek/torch/install/share/lua/5.1/itorch/main.lua:389: in main chunk\n\t[C]: in function 'require'\n\t(command line):1: in main chunk\n\t[C]: at 0x00405d50",
     "evalue": "",
     "output_type": "error",
     "traceback": [
      "/home/geek/torch-cl/install/share/lua/5.1/nn/Normalize.lua:6: internal error in __lt: no metatable\nstack traceback:\n\t[C]: in function '__lt'\n\t/home/geek/torch-cl/install/share/lua/5.1/nn/Normalize.lua:6: in function '__init'\n\t/home/geek/torch-cl/install/share/lua/5.1/torch/init.lua:91: in function </home/geek/torch-cl/install/share/lua/5.1/torch/init.lua:87>\n\t[C]: in function 'Normalize'\n\t[string \"x = torch.Tensor{1,2,3,4}...\"]:3: in main chunk\n\t[C]: in function 'xpcall'\n\t/home/geek/torch/install/share/lua/5.1/itorch/main.lua:210: in function </home/geek/torch/install/share/lua/5.1/itorch/main.lua:174>\n\t/home/geek/torch/install/share/lua/5.1/lzmq/poller.lua:80: in function 'poll'\n\t/home/geek/torch/install/share/lua/5.1/lzmq/impl/loop.lua:307: in function 'poll'\n\t/home/geek/torch/install/share/lua/5.1/lzmq/impl/loop.lua:325: in function 'sleep_ex'\n\t/home/geek/torch/install/share/lua/5.1/lzmq/impl/loop.lua:370: in function 'start'\n\t/home/geek/torch/install/share/lua/5.1/itorch/main.lua:389: in main chunk\n\t[C]: in function 'require'\n\t(command line):1: in main chunk\n\t[C]: at 0x00405d50"
     ]
    },
    {
     "data": {
      "text/plain": [
       " 1\n",
       " 2\n",
       " 3\n",
       " 4\n",
       "[torch.DoubleTensor of size 4]\n",
       "\n"
      ]
     },
     "execution_count": 74,
     "metadata": {},
     "output_type": "execute_result"
    }
   ],
   "source": [
    "x = torch.Tensor{1,2,3,4}\n",
    "print(x)\n",
    "y = nn.Normalize(x)\n",
    "print(y)"
   ]
  },
  {
   "cell_type": "code",
   "execution_count": null,
   "metadata": {},
   "outputs": [],
   "source": [
    "mod = nn.MM(true, false)\n",
    "A = torch.Tensor{{1,2},{}}"
   ]
  }
 ],
 "metadata": {
  "kernelspec": {
   "display_name": "iTorch",
   "language": "lua",
   "name": "itorch"
  },
  "language_info": {
   "name": "lua",
   "version": "5.1"
  }
 },
 "nbformat": 4,
 "nbformat_minor": 2
}
